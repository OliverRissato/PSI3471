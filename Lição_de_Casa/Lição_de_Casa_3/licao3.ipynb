{
 "cells": [
  {
   "cell_type": "code",
   "execution_count": 6,
   "metadata": {},
   "outputs": [
    {
     "data": {
      "text/html": [
       "<div>\n",
       "<style scoped>\n",
       "    .dataframe tbody tr th:only-of-type {\n",
       "        vertical-align: middle;\n",
       "    }\n",
       "\n",
       "    .dataframe tbody tr th {\n",
       "        vertical-align: top;\n",
       "    }\n",
       "\n",
       "    .dataframe thead th {\n",
       "        text-align: right;\n",
       "    }\n",
       "</style>\n",
       "<table border=\"1\" class=\"dataframe\">\n",
       "  <thead>\n",
       "    <tr style=\"text-align: right;\">\n",
       "      <th></th>\n",
       "      <th>price</th>\n",
       "      <th>year</th>\n",
       "      <th>condition</th>\n",
       "      <th>cylinders</th>\n",
       "      <th>fuel</th>\n",
       "      <th>odometer</th>\n",
       "      <th>transmission</th>\n",
       "      <th>size</th>\n",
       "      <th>type</th>\n",
       "    </tr>\n",
       "  </thead>\n",
       "  <tbody>\n",
       "    <tr>\n",
       "      <th>0</th>\n",
       "      <td>10400</td>\n",
       "      <td>2011</td>\n",
       "      <td>excellent</td>\n",
       "      <td>4 cylinders</td>\n",
       "      <td>gas</td>\n",
       "      <td>81300</td>\n",
       "      <td>automatic</td>\n",
       "      <td>mid-size</td>\n",
       "      <td>sedan</td>\n",
       "    </tr>\n",
       "    <tr>\n",
       "      <th>1</th>\n",
       "      <td>6900</td>\n",
       "      <td>2007</td>\n",
       "      <td>excellent</td>\n",
       "      <td>6 cylinders</td>\n",
       "      <td>gas</td>\n",
       "      <td>79000</td>\n",
       "      <td>automatic</td>\n",
       "      <td>full-size</td>\n",
       "      <td>sedan</td>\n",
       "    </tr>\n",
       "    <tr>\n",
       "      <th>2</th>\n",
       "      <td>18900</td>\n",
       "      <td>2018</td>\n",
       "      <td>like new</td>\n",
       "      <td>4 cylinders</td>\n",
       "      <td>gas</td>\n",
       "      <td>5000</td>\n",
       "      <td>automatic</td>\n",
       "      <td>full-size</td>\n",
       "      <td>sedan</td>\n",
       "    </tr>\n",
       "    <tr>\n",
       "      <th>3</th>\n",
       "      <td>6000</td>\n",
       "      <td>2010</td>\n",
       "      <td>excellent</td>\n",
       "      <td>4 cylinders</td>\n",
       "      <td>gas</td>\n",
       "      <td>97600</td>\n",
       "      <td>automatic</td>\n",
       "      <td>mid-size</td>\n",
       "      <td>hatchback</td>\n",
       "    </tr>\n",
       "    <tr>\n",
       "      <th>4</th>\n",
       "      <td>19995</td>\n",
       "      <td>2013</td>\n",
       "      <td>good</td>\n",
       "      <td>6 cylinders</td>\n",
       "      <td>gas</td>\n",
       "      <td>95782</td>\n",
       "      <td>automatic</td>\n",
       "      <td>mid-size</td>\n",
       "      <td>sedan</td>\n",
       "    </tr>\n",
       "  </tbody>\n",
       "</table>\n",
       "</div>"
      ],
      "text/plain": [
       "   price  year  condition    cylinders fuel  odometer transmission       size  \\\n",
       "0  10400  2011  excellent  4 cylinders  gas     81300    automatic   mid-size   \n",
       "1   6900  2007  excellent  6 cylinders  gas     79000    automatic  full-size   \n",
       "2  18900  2018   like new  4 cylinders  gas      5000    automatic  full-size   \n",
       "3   6000  2010  excellent  4 cylinders  gas     97600    automatic   mid-size   \n",
       "4  19995  2013       good  6 cylinders  gas     95782    automatic   mid-size   \n",
       "\n",
       "        type  \n",
       "0      sedan  \n",
       "1      sedan  \n",
       "2      sedan  \n",
       "3  hatchback  \n",
       "4      sedan  "
      ]
     },
     "execution_count": 6,
     "metadata": {},
     "output_type": "execute_result"
    }
   ],
   "source": [
    "import pandas as pd\n",
    "import numpy as np\n",
    "\n",
    "cars_data = pd.read_csv(\"vehicles_cleaned_train.csv\")\n",
    "\n",
    "cars_data.head()"
   ]
  },
  {
   "cell_type": "code",
   "execution_count": 7,
   "metadata": {},
   "outputs": [],
   "source": [
    "prices = cars_data[\"price\"]\n",
    "cars_data = cars_data.drop(columns=['price'])\n",
    "dummies = pd.get_dummies(cars_data)"
   ]
  },
  {
   "cell_type": "code",
   "execution_count": 8,
   "metadata": {},
   "outputs": [],
   "source": [
    "X = dummies.to_numpy()\n",
    "X = np.c_[np.ones((X.shape[0],1)), X]\n",
    "\n",
    "d = prices.to_numpy()"
   ]
  },
  {
   "cell_type": "code",
   "execution_count": 4,
   "metadata": {},
   "outputs": [],
   "source": [
    "R = X.T @ X\n",
    "p = X.T @ d\n",
    "\n",
    "w = np.linalg.solve(R, p)"
   ]
  },
  {
   "cell_type": "code",
   "execution_count": 9,
   "metadata": {},
   "outputs": [
    {
     "data": {
      "text/plain": [
       "array([17265.56968113, 16905.9899908 , 16062.20398058, ...,\n",
       "       16384.10809753, 13142.64686675, 13579.29551981])"
      ]
     },
     "execution_count": 9,
     "metadata": {},
     "output_type": "execute_result"
    }
   ],
   "source": [
    "cars_test = pd.read_csv(\"vehicles_cleaned_test.csv\")\n",
    "\n",
    "prices_test = cars_test[\"price\"]\n",
    "cars_test = cars_test.drop(columns=['price'])\n",
    "dummies_test = pd.get_dummies(cars_test)\n",
    "Xt = dummies_test.to_numpy()\n",
    "Xt = np.c_[np.ones((Xt.shape[0],1)), Xt]\n",
    "\n",
    "Yt = Xt @ w\n",
    "\n",
    "Yt"
   ]
  }
 ],
 "metadata": {
  "interpreter": {
   "hash": "6dfe828568fec094658677652ba481a99fe1df2b64689b5492c263bdf0b46435"
  },
  "kernelspec": {
   "display_name": "Python 3.10.4 64-bit",
   "language": "python",
   "name": "python3"
  },
  "language_info": {
   "codemirror_mode": {
    "name": "ipython",
    "version": 3
   },
   "file_extension": ".py",
   "mimetype": "text/x-python",
   "name": "python",
   "nbconvert_exporter": "python",
   "pygments_lexer": "ipython3",
   "version": "3.10.4"
  },
  "orig_nbformat": 4
 },
 "nbformat": 4,
 "nbformat_minor": 2
}
