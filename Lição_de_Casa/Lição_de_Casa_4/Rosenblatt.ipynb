{
 "cells": [
  {
   "cell_type": "code",
   "execution_count": 46,
   "metadata": {},
   "outputs": [],
   "source": [
    "import pandas as pd\n",
    "import matplotlib.pyplot as plt\n",
    "from sklearn.utils import shuffle\n",
    "import numpy as np\n",
    "from numpy import sign as sgn\n",
    "\n",
    "data_df = pd.read_csv(\"circles_and_squares.csv\")\n",
    "data_df_treino = data_df.iloc[0:800, :]\n",
    "data_df_test = data_df.iloc[800:, :]"
   ]
  },
  {
   "cell_type": "code",
   "execution_count": 47,
   "metadata": {},
   "outputs": [],
   "source": [
    "eta = 0.001\n",
    "Ne = 500\n",
    "Nb = 50"
   ]
  },
  {
   "cell_type": "code",
   "execution_count": 48,
   "metadata": {},
   "outputs": [],
   "source": [
    "w = np.zeros(401)\n",
    "e = np.zeros(800)\n",
    "y = np.zeros(800)\n",
    "v = np.zeros(800)\n",
    "m = 0\n",
    "for k in range(1, Ne):\n",
    "    data = data_df_treino.sample(frac=1).reset_index(drop=True)\n",
    "    reference = data[\"400\"]\n",
    "    data = data.drop(columns=[\"400\"])\n",
    "\n",
    "    Xd = data.to_numpy()\n",
    "    Xd = np.c_[np.ones((Xd.shape[0],1)), Xd]\n",
    "    d = reference.to_numpy()\n",
    "\n",
    "    for l in range(int(len(Xd)/Nb) - 1):\n",
    "        v = Xd[l] @ w\n",
    "        y = sgn(v)\n",
    "        e = d - y\n",
    "        w = w + (eta/Nb )*(Xd.T@e)\n",
    "\n"
   ]
  },
  {
   "cell_type": "code",
   "execution_count": 49,
   "metadata": {},
   "outputs": [
    {
     "data": {
      "text/plain": [
       "73"
      ]
     },
     "execution_count": 49,
     "metadata": {},
     "output_type": "execute_result"
    }
   ],
   "source": [
    "gabarito = data_df_test[\"400\"]\n",
    "data_df_test = data_df_test.drop(columns=['400'])\n",
    "\n",
    "Xd_test = data_df_test.to_numpy()\n",
    "Xd_test = np.c_[np.ones((Xd_test.shape[0],1)), Xd_test]\n",
    "\n",
    "teste = np.zeros(200)\n",
    "erro_test = np.zeros(200)\n",
    "erro = 0\n",
    "\n",
    "for i in range(200):\n",
    "    teste[i] = sgn(Xd_test[i] @ w)\n",
    "    erro_test = gabarito.to_numpy()[i] - teste[i]\n",
    "    if erro_test != 0:\n",
    "        erro += 1\n",
    "\n",
    "erro"
   ]
  }
 ],
 "metadata": {
  "interpreter": {
   "hash": "6dfe828568fec094658677652ba481a99fe1df2b64689b5492c263bdf0b46435"
  },
  "kernelspec": {
   "display_name": "Python 3.10.4 64-bit",
   "language": "python",
   "name": "python3"
  },
  "language_info": {
   "codemirror_mode": {
    "name": "ipython",
    "version": 3
   },
   "file_extension": ".py",
   "mimetype": "text/x-python",
   "name": "python",
   "nbconvert_exporter": "python",
   "pygments_lexer": "ipython3",
   "version": "3.10.4"
  },
  "orig_nbformat": 4
 },
 "nbformat": 4,
 "nbformat_minor": 2
}
